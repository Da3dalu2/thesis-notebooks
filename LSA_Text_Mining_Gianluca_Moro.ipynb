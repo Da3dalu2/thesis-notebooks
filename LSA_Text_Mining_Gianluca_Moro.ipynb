{
  "nbformat": 4,
  "nbformat_minor": 0,
  "metadata": {
    "colab": {
      "name": "LSA_Text_Mining_Gianluca_Moro.ipynb",
      "provenance": [],
      "collapsed_sections": []
    },
    "kernelspec": {
      "name": "ir",
      "display_name": "R"
    }
  },
  "cells": [
    {
      "cell_type": "markdown",
      "metadata": {
        "id": "N8ySlI6cJx2k"
      },
      "source": [
        "# Latent Semantic Analysis - Text Mining Module \n",
        "### Prof. Gianluca Moro - DISI - University of Bologna, Cesena, Campus\n",
        "### Via dell'Università 50 - 47522 Cesena (FC)\n",
        "#### name.surname@unibo.it"
      ]
    },
    {
      "cell_type": "code",
      "metadata": {
        "id": "vo0sMZyGGc3s",
        "colab": {
          "base_uri": "https://localhost:8080/"
        },
        "outputId": "7c36e727-bfa6-4ff1-d771-f5dfe41aa7ba"
      },
      "source": [
        "# installation and importing of LSA package \n",
        "install.packages(\"lsa\")\n",
        "library(lsa) "
      ],
      "execution_count": null,
      "outputs": [
        {
          "output_type": "stream",
          "text": [
            "Installing package into ‘/usr/local/lib/R/site-library’\n",
            "(as ‘lib’ is unspecified)\n",
            "\n"
          ],
          "name": "stderr"
        }
      ]
    },
    {
      "cell_type": "code",
      "metadata": {
        "id": "hnw3JfuTJf5j",
        "colab": {
          "base_uri": "https://localhost:8080/",
          "height": 162
        },
        "outputId": "c43bbedf-81c4-4619-b843-714e18bfb7c7"
      },
      "source": [
        "# intial terms-docs matrix \n",
        "tdm_ship_boat = matrix(c(1,0,1,0,0,0,  \n",
        "                         0,1,0,0,0,0,  \n",
        "                         1,1,0,0,0,0, \n",
        "                         1,0,0,1,1,0, \n",
        "                         0,0,0,1,0,1), \n",
        "                       nrow=5, ncol=6, byrow = TRUE, \n",
        "                       dimnames = list(c(\"ship\", \"boat\", \"ocean\", \"wood\", \"tree\"), \n",
        "                                       c(\"d1\", \"d2\", \"d3\",\"d4\",\"d5\",\"d6\")))\n",
        "tdm_ship_boat"
      ],
      "execution_count": null,
      "outputs": [
        {
          "output_type": "display_data",
          "data": {
            "text/plain": [
              "      d1 d2 d3 d4 d5 d6\n",
              "ship  1  0  1  0  0  0 \n",
              "boat  0  1  0  0  0  0 \n",
              "ocean 1  1  0  0  0  0 \n",
              "wood  1  0  0  1  1  0 \n",
              "tree  0  0  0  1  0  1 "
            ],
            "text/latex": "A matrix: 5 × 6 of type dbl\n\\begin{tabular}{r|llllll}\n  & d1 & d2 & d3 & d4 & d5 & d6\\\\\n\\hline\n\tship & 1 & 0 & 1 & 0 & 0 & 0\\\\\n\tboat & 0 & 1 & 0 & 0 & 0 & 0\\\\\n\tocean & 1 & 1 & 0 & 0 & 0 & 0\\\\\n\twood & 1 & 0 & 0 & 1 & 1 & 0\\\\\n\ttree & 0 & 0 & 0 & 1 & 0 & 1\\\\\n\\end{tabular}\n",
            "text/markdown": "\nA matrix: 5 × 6 of type dbl\n\n| <!--/--> | d1 | d2 | d3 | d4 | d5 | d6 |\n|---|---|---|---|---|---|---|\n| ship | 1 | 0 | 1 | 0 | 0 | 0 |\n| boat | 0 | 1 | 0 | 0 | 0 | 0 |\n| ocean | 1 | 1 | 0 | 0 | 0 | 0 |\n| wood | 1 | 0 | 0 | 1 | 1 | 0 |\n| tree | 0 | 0 | 0 | 1 | 0 | 1 |\n\n",
            "text/html": [
              "<table>\n",
              "<caption>A matrix: 5 × 6 of type dbl</caption>\n",
              "<thead>\n",
              "\t<tr><th></th><th scope=col>d1</th><th scope=col>d2</th><th scope=col>d3</th><th scope=col>d4</th><th scope=col>d5</th><th scope=col>d6</th></tr>\n",
              "</thead>\n",
              "<tbody>\n",
              "\t<tr><th scope=row>ship</th><td>1</td><td>0</td><td>1</td><td>0</td><td>0</td><td>0</td></tr>\n",
              "\t<tr><th scope=row>boat</th><td>0</td><td>1</td><td>0</td><td>0</td><td>0</td><td>0</td></tr>\n",
              "\t<tr><th scope=row>ocean</th><td>1</td><td>1</td><td>0</td><td>0</td><td>0</td><td>0</td></tr>\n",
              "\t<tr><th scope=row>wood</th><td>1</td><td>0</td><td>0</td><td>1</td><td>1</td><td>0</td></tr>\n",
              "\t<tr><th scope=row>tree</th><td>0</td><td>0</td><td>0</td><td>1</td><td>0</td><td>1</td></tr>\n",
              "</tbody>\n",
              "</table>\n"
            ]
          },
          "metadata": {
            "tags": []
          }
        }
      ]
    },
    {
      "cell_type": "code",
      "metadata": {
        "id": "56DlllRWG2AN",
        "colab": {
          "base_uri": "https://localhost:8080/",
          "height": 463
        },
        "outputId": "a220c34f-fbef-46a2-b1f0-5c298761a17e"
      },
      "source": [
        "# creation of the LSA space from tdm_ship_boat by setting the reduced rank to 2:\n",
        "# it generates the 3 matrix according to SVD: U Σ V^t \n",
        "# terms are in tk, i.e. U, eigenvalues are in sk i.e. Σ, docs are in dk, i.e. V^t\n",
        "tdm_ship_boat_lsa = lsa(tdm_ship_boat, 2)\n",
        "\n",
        "tdm_ship_boat_lsa$tk\n",
        "tdm_ship_boat_lsa$sk\n",
        "diag(tdm_ship_boat_lsa$sk)\n",
        "tdm_ship_boat_lsa$dk\n",
        "t(tdm_ship_boat_lsa$dk)"
      ],
      "execution_count": null,
      "outputs": [
        {
          "output_type": "display_data",
          "data": {
            "text/plain": [
              "      [,1]      [,2]      \n",
              "ship  0.4403475 -0.2961744\n",
              "boat  0.1293463 -0.3314507\n",
              "ocean 0.4755303 -0.5111152\n",
              "wood  0.7030203  0.3505724\n",
              "tree  0.2626728  0.6467468"
            ],
            "text/latex": "A matrix: 5 × 2 of type dbl\n\\begin{tabular}{r|ll}\n\tship & 0.4403475 & -0.2961744\\\\\n\tboat & 0.1293463 & -0.3314507\\\\\n\tocean & 0.4755303 & -0.5111152\\\\\n\twood & 0.7030203 &  0.3505724\\\\\n\ttree & 0.2626728 &  0.6467468\\\\\n\\end{tabular}\n",
            "text/markdown": "\nA matrix: 5 × 2 of type dbl\n\n| ship | 0.4403475 | -0.2961744 |\n| boat | 0.1293463 | -0.3314507 |\n| ocean | 0.4755303 | -0.5111152 |\n| wood | 0.7030203 |  0.3505724 |\n| tree | 0.2626728 |  0.6467468 |\n\n",
            "text/html": [
              "<table>\n",
              "<caption>A matrix: 5 × 2 of type dbl</caption>\n",
              "<tbody>\n",
              "\t<tr><th scope=row>ship</th><td>0.4403475</td><td>-0.2961744</td></tr>\n",
              "\t<tr><th scope=row>boat</th><td>0.1293463</td><td>-0.3314507</td></tr>\n",
              "\t<tr><th scope=row>ocean</th><td>0.4755303</td><td>-0.5111152</td></tr>\n",
              "\t<tr><th scope=row>wood</th><td>0.7030203</td><td> 0.3505724</td></tr>\n",
              "\t<tr><th scope=row>tree</th><td>0.2626728</td><td> 0.6467468</td></tr>\n",
              "</tbody>\n",
              "</table>\n"
            ]
          },
          "metadata": {
            "tags": []
          }
        },
        {
          "output_type": "display_data",
          "data": {
            "text/plain": [
              "[1] 2.162501 1.594382"
            ],
            "text/latex": "\\begin{enumerate*}\n\\item 2.1625009623016\n\\item 1.59438236872333\n\\end{enumerate*}\n",
            "text/markdown": "1. 2.1625009623016\n2. 1.59438236872333\n\n\n",
            "text/html": [
              "<style>\n",
              ".list-inline {list-style: none; margin:0; padding: 0}\n",
              ".list-inline>li {display: inline-block}\n",
              ".list-inline>li:not(:last-child)::after {content: \"\\00b7\"; padding: 0 .5ex}\n",
              "</style>\n",
              "<ol class=list-inline><li>2.1625009623016</li><li>1.59438236872333</li></ol>\n"
            ]
          },
          "metadata": {
            "tags": []
          }
        },
        {
          "output_type": "display_data",
          "data": {
            "text/plain": [
              "     [,1]     [,2]    \n",
              "[1,] 2.162501 0.000000\n",
              "[2,] 0.000000 1.594382"
            ],
            "text/latex": "A matrix: 2 × 2 of type dbl\n\\begin{tabular}{ll}\n\t 2.162501 & 0.000000\\\\\n\t 0.000000 & 1.594382\\\\\n\\end{tabular}\n",
            "text/markdown": "\nA matrix: 2 × 2 of type dbl\n\n| 2.162501 | 0.000000 |\n| 0.000000 | 1.594382 |\n\n",
            "text/html": [
              "<table>\n",
              "<caption>A matrix: 2 × 2 of type dbl</caption>\n",
              "<tbody>\n",
              "\t<tr><td>2.162501</td><td>0.000000</td></tr>\n",
              "\t<tr><td>0.000000</td><td>1.594382</td></tr>\n",
              "</tbody>\n",
              "</table>\n"
            ]
          },
          "metadata": {
            "tags": []
          }
        },
        {
          "output_type": "display_data",
          "data": {
            "text/plain": [
              "   [,1]      [,2]      \n",
              "d1 0.7486230 -0.2864540\n",
              "d2 0.2797116 -0.5284591\n",
              "d3 0.2036288 -0.1857612\n",
              "d4 0.4465631  0.6255207\n",
              "d5 0.3250960  0.2198798\n",
              "d6 0.1214672  0.4056409"
            ],
            "text/latex": "A matrix: 6 × 2 of type dbl\n\\begin{tabular}{r|ll}\n\td1 & 0.7486230 & -0.2864540\\\\\n\td2 & 0.2797116 & -0.5284591\\\\\n\td3 & 0.2036288 & -0.1857612\\\\\n\td4 & 0.4465631 &  0.6255207\\\\\n\td5 & 0.3250960 &  0.2198798\\\\\n\td6 & 0.1214672 &  0.4056409\\\\\n\\end{tabular}\n",
            "text/markdown": "\nA matrix: 6 × 2 of type dbl\n\n| d1 | 0.7486230 | -0.2864540 |\n| d2 | 0.2797116 | -0.5284591 |\n| d3 | 0.2036288 | -0.1857612 |\n| d4 | 0.4465631 |  0.6255207 |\n| d5 | 0.3250960 |  0.2198798 |\n| d6 | 0.1214672 |  0.4056409 |\n\n",
            "text/html": [
              "<table>\n",
              "<caption>A matrix: 6 × 2 of type dbl</caption>\n",
              "<tbody>\n",
              "\t<tr><th scope=row>d1</th><td>0.7486230</td><td>-0.2864540</td></tr>\n",
              "\t<tr><th scope=row>d2</th><td>0.2797116</td><td>-0.5284591</td></tr>\n",
              "\t<tr><th scope=row>d3</th><td>0.2036288</td><td>-0.1857612</td></tr>\n",
              "\t<tr><th scope=row>d4</th><td>0.4465631</td><td> 0.6255207</td></tr>\n",
              "\t<tr><th scope=row>d5</th><td>0.3250960</td><td> 0.2198798</td></tr>\n",
              "\t<tr><th scope=row>d6</th><td>0.1214672</td><td> 0.4056409</td></tr>\n",
              "</tbody>\n",
              "</table>\n"
            ]
          },
          "metadata": {
            "tags": []
          }
        },
        {
          "output_type": "display_data",
          "data": {
            "text/plain": [
              "     d1        d2         d3         d4        d5        d6       \n",
              "[1,]  0.748623  0.2797116  0.2036288 0.4465631 0.3250960 0.1214672\n",
              "[2,] -0.286454 -0.5284591 -0.1857612 0.6255207 0.2198798 0.4056409"
            ],
            "text/latex": "A matrix: 2 × 6 of type dbl\n\\begin{tabular}{llllll}\n d1 & d2 & d3 & d4 & d5 & d6\\\\\n\\hline\n\t  0.748623 &  0.2797116 &  0.2036288 & 0.4465631 & 0.3250960 & 0.1214672\\\\\n\t -0.286454 & -0.5284591 & -0.1857612 & 0.6255207 & 0.2198798 & 0.4056409\\\\\n\\end{tabular}\n",
            "text/markdown": "\nA matrix: 2 × 6 of type dbl\n\n| d1 | d2 | d3 | d4 | d5 | d6 |\n|---|---|---|---|---|---|\n|  0.748623 |  0.2797116 |  0.2036288 | 0.4465631 | 0.3250960 | 0.1214672 |\n| -0.286454 | -0.5284591 | -0.1857612 | 0.6255207 | 0.2198798 | 0.4056409 |\n\n",
            "text/html": [
              "<table>\n",
              "<caption>A matrix: 2 × 6 of type dbl</caption>\n",
              "<thead>\n",
              "\t<tr><th scope=col>d1</th><th scope=col>d2</th><th scope=col>d3</th><th scope=col>d4</th><th scope=col>d5</th><th scope=col>d6</th></tr>\n",
              "</thead>\n",
              "<tbody>\n",
              "\t<tr><td> 0.748623</td><td> 0.2797116</td><td> 0.2036288</td><td>0.4465631</td><td>0.3250960</td><td>0.1214672</td></tr>\n",
              "\t<tr><td>-0.286454</td><td>-0.5284591</td><td>-0.1857612</td><td>0.6255207</td><td>0.2198798</td><td>0.4056409</td></tr>\n",
              "</tbody>\n",
              "</table>\n"
            ]
          },
          "metadata": {
            "tags": []
          }
        }
      ]
    },
    {
      "cell_type": "code",
      "metadata": {
        "id": "_ANhMxlKeqhk",
        "colab": {
          "base_uri": "https://localhost:8080/",
          "height": 35
        },
        "outputId": "8b79f3f1-0627-4177-a8f1-0732ef2120ce"
      },
      "source": [
        "class(tdm_ship_boat_lsa)"
      ],
      "execution_count": null,
      "outputs": [
        {
          "output_type": "display_data",
          "data": {
            "text/plain": [
              "[1] \"LSAspace\""
            ],
            "text/latex": "'LSAspace'",
            "text/markdown": "'LSAspace'",
            "text/html": [
              "'LSAspace'"
            ]
          },
          "metadata": {
            "tags": []
          }
        }
      ]
    },
    {
      "cell_type": "code",
      "metadata": {
        "id": "kAdXudj_Jmd0",
        "colab": {
          "base_uri": "https://localhost:8080/",
          "height": 141
        },
        "outputId": "eb7310b1-98a8-4b06-9b23-1a8d8b8edb2e"
      },
      "source": [
        "# terms matrix tk weighted by the eigenvalues sk in order to correctly place \n",
        "# them in the graphs with terms and docs; %*% is the canonical matrix product \n",
        "tdm_ship_boat_lsa_terms = tdm_ship_boat_lsa$tk %*% diag(tdm_ship_boat_lsa$sk)\n",
        "tdm_ship_boat_lsa_terms"
      ],
      "execution_count": null,
      "outputs": [
        {
          "output_type": "display_data",
          "data": {
            "text/plain": [
              "      [,1]      [,2]      \n",
              "ship  0.9522518 -0.4722152\n",
              "boat  0.2797116 -0.5284591\n",
              "ocean 1.0283347 -0.8149131\n",
              "wood  1.5202821  0.5589465\n",
              "tree  0.5680303  1.0311616"
            ],
            "text/latex": "A matrix: 5 × 2 of type dbl\n\\begin{tabular}{r|ll}\n\tship & 0.9522518 & -0.4722152\\\\\n\tboat & 0.2797116 & -0.5284591\\\\\n\tocean & 1.0283347 & -0.8149131\\\\\n\twood & 1.5202821 &  0.5589465\\\\\n\ttree & 0.5680303 &  1.0311616\\\\\n\\end{tabular}\n",
            "text/markdown": "\nA matrix: 5 × 2 of type dbl\n\n| ship | 0.9522518 | -0.4722152 |\n| boat | 0.2797116 | -0.5284591 |\n| ocean | 1.0283347 | -0.8149131 |\n| wood | 1.5202821 |  0.5589465 |\n| tree | 0.5680303 |  1.0311616 |\n\n",
            "text/html": [
              "<table>\n",
              "<caption>A matrix: 5 × 2 of type dbl</caption>\n",
              "<tbody>\n",
              "\t<tr><th scope=row>ship</th><td>0.9522518</td><td>-0.4722152</td></tr>\n",
              "\t<tr><th scope=row>boat</th><td>0.2797116</td><td>-0.5284591</td></tr>\n",
              "\t<tr><th scope=row>ocean</th><td>1.0283347</td><td>-0.8149131</td></tr>\n",
              "\t<tr><th scope=row>wood</th><td>1.5202821</td><td> 0.5589465</td></tr>\n",
              "\t<tr><th scope=row>tree</th><td>0.5680303</td><td> 1.0311616</td></tr>\n",
              "</tbody>\n",
              "</table>\n"
            ]
          },
          "metadata": {
            "tags": []
          }
        }
      ]
    },
    {
      "cell_type": "code",
      "metadata": {
        "id": "jLNB1v8OMmHF",
        "colab": {
          "base_uri": "https://localhost:8080/",
          "height": 162
        },
        "outputId": "dd2369fc-3994-4993-a2a7-6420c107549b"
      },
      "source": [
        "# docs matrix dk weighted by the eigenvalues sk in order to correctly place \n",
        "# them in the graphs with terms and docs\n",
        "tdm_ship_boat_lsa_docs = tdm_ship_boat_lsa$dk %*% diag(tdm_ship_boat_lsa$sk)\n",
        "tdm_ship_boat_lsa_docs"
      ],
      "execution_count": null,
      "outputs": [
        {
          "output_type": "display_data",
          "data": {
            "text/plain": [
              "   [,1]      [,2]      \n",
              "d1 1.6188981 -0.4567172\n",
              "d2 0.6048766 -0.8425659\n",
              "d3 0.4403475 -0.2961744\n",
              "d4 0.9656932  0.9973192\n",
              "d5 0.7030203  0.3505724\n",
              "d6 0.2626728  0.6467468"
            ],
            "text/latex": "A matrix: 6 × 2 of type dbl\n\\begin{tabular}{r|ll}\n\td1 & 1.6188981 & -0.4567172\\\\\n\td2 & 0.6048766 & -0.8425659\\\\\n\td3 & 0.4403475 & -0.2961744\\\\\n\td4 & 0.9656932 &  0.9973192\\\\\n\td5 & 0.7030203 &  0.3505724\\\\\n\td6 & 0.2626728 &  0.6467468\\\\\n\\end{tabular}\n",
            "text/markdown": "\nA matrix: 6 × 2 of type dbl\n\n| d1 | 1.6188981 | -0.4567172 |\n| d2 | 0.6048766 | -0.8425659 |\n| d3 | 0.4403475 | -0.2961744 |\n| d4 | 0.9656932 |  0.9973192 |\n| d5 | 0.7030203 |  0.3505724 |\n| d6 | 0.2626728 |  0.6467468 |\n\n",
            "text/html": [
              "<table>\n",
              "<caption>A matrix: 6 × 2 of type dbl</caption>\n",
              "<tbody>\n",
              "\t<tr><th scope=row>d1</th><td>1.6188981</td><td>-0.4567172</td></tr>\n",
              "\t<tr><th scope=row>d2</th><td>0.6048766</td><td>-0.8425659</td></tr>\n",
              "\t<tr><th scope=row>d3</th><td>0.4403475</td><td>-0.2961744</td></tr>\n",
              "\t<tr><th scope=row>d4</th><td>0.9656932</td><td> 0.9973192</td></tr>\n",
              "\t<tr><th scope=row>d5</th><td>0.7030203</td><td> 0.3505724</td></tr>\n",
              "\t<tr><th scope=row>d6</th><td>0.2626728</td><td> 0.6467468</td></tr>\n",
              "</tbody>\n",
              "</table>\n"
            ]
          },
          "metadata": {
            "tags": []
          }
        }
      ]
    },
    {
      "cell_type": "code",
      "metadata": {
        "id": "7xrxxRepMpP7"
      },
      "source": [
        "# this copies the terms in order to add their labels in the graph terms docs  \n",
        "termNames_ship_boat = rownames(tdm_ship_boat)\n",
        "\n",
        "# analogously this copies the docs labels to add them in the same graph\n",
        "docsNames_ship_boat = colnames(tdm_ship_boat)"
      ],
      "execution_count": null,
      "outputs": []
    },
    {
      "cell_type": "code",
      "metadata": {
        "id": "UGXPP-r9JvT_",
        "colab": {
          "base_uri": "https://localhost:8080/",
          "height": 437
        },
        "outputId": "513c377b-6695-46ce-e3f6-ef8a74845bd8"
      },
      "source": [
        "# creation of the graphs with terms and docs; pch controls the shape of each point, \n",
        "# xlim and ylim set the axes intervals \n",
        "\n",
        "## uncomments the png() statement to save graph (changing in case the size) to a file\n",
        "## png(\"lsa.png\", width=800, height=700)\n",
        "plot(tdm_ship_boat_lsa_terms, pch=20, cex=2, col=\"blue\", xlim=c(0.0, 1.6), ylim=c(-1,1))\n",
        "\n",
        "# this adds to the graph the terms, cex controls the font size, pos=1 controls the position \n",
        "# of the label with respect to its points, 1 means under the point\n",
        "text(tdm_ship_boat_lsa_terms, labels=termNames_ship_boat, cex=1.5, pos=1)\n",
        "\n",
        "# adds the docs to the graph each with a red symbol  \n",
        "points(tdm_ship_boat_lsa_docs, pch=23, cex=2, col=\"red\") \n",
        "\n",
        "# adds the names of the docs\n",
        "text(tdm_ship_boat_lsa_docs, labels=docsNames_ship_boat, cex=1.5, pos=1)\n",
        "\n",
        "## uncomments dev.off() in case you have uncommented the png() statement above to save the graph"
      ],
      "execution_count": null,
      "outputs": [
        {
          "output_type": "display_data",
          "data": {
            "image/png": "[encoded data removed]",
            "text/plain": [
              "plot without title"
            ]
          },
          "metadata": {
            "tags": [],
            "image/png": {
              "width": 420,
              "height": 420
            }
          }
        }
      ]
    },
    {
      "cell_type": "code",
      "metadata": {
        "id": "xYKG1j4CJ3hM",
        "colab": {
          "base_uri": "https://localhost:8080/",
          "height": 121
        },
        "outputId": "06cc2e14-4794-4b77-fcd8-4145228f90c3"
      },
      "source": [
        "# Let's create our first QUERY with two terms \"ship ocean\" calling the onehot encoding \n",
        "# function query() to which we supply our vocabulary in the second input parameter\n",
        "# according to the original matrix terms docs\n",
        "q = query(\"ship ocean\", rownames(tdm_ship_boat))\n",
        "q"
      ],
      "execution_count": null,
      "outputs": [
        {
          "output_type": "display_data",
          "data": {
            "text/plain": [
              "      SHIP OCEAN\n",
              "ship           1\n",
              "boat           0\n",
              "ocean          1\n",
              "wood           0\n",
              "tree           0"
            ]
          },
          "metadata": {
            "tags": []
          }
        }
      ]
    },
    {
      "cell_type": "code",
      "metadata": {
        "id": "yo2xoi-ZMXOp",
        "colab": {
          "base_uri": "https://localhost:8080/",
          "height": 144
        },
        "outputId": "12417077-39e7-4de0-a776-02e394bab4e5"
      },
      "source": [
        "# this runs the query in the original terms docs matrix, namely without using the LSA space\n",
        "# that is computing the cosine similarity between the query q and the doc d2: [,2] -> column 2\n",
        "#     as.vector(q) is type conversion of q to a vector, the data type required by cosine() \n",
        "cosine(as.vector(q), as.vector(tdm_ship_boat[,2])) # returns 0.5"
      ],
      "execution_count": null,
      "outputs": [
        {
          "output_type": "display_data",
          "data": {
            "text/plain": [
              "     [,1]\n",
              "[1,] 0.5 "
            ],
            "text/latex": "A matrix: 1 × 1 of type dbl\n\\begin{tabular}{l}\n\t 0.5\\\\\n\\end{tabular}\n",
            "text/markdown": "\nA matrix: 1 × 1 of type dbl\n\n| 0.5 |\n\n",
            "text/html": [
              "<table>\n",
              "<caption>A matrix: 1 × 1 of type dbl</caption>\n",
              "<tbody>\n",
              "\t<tr><td>0.5</td></tr>\n",
              "</tbody>\n",
              "</table>\n"
            ]
          },
          "metadata": {
            "tags": []
          }
        }
      ]
    },
    {
      "cell_type": "code",
      "metadata": {
        "id": "T0KMiUawMRTf",
        "colab": {
          "base_uri": "https://localhost:8080/",
          "height": 121
        },
        "outputId": "0d62853b-5fd6-415c-ddaa-3b25f820eea6"
      },
      "source": [
        "# Now let's run the same query in the rebuilt terms docs matrix from the LSA space\n",
        "# Attention: this matrix is no longer sparse and with large datasets \n",
        "# (tens of thousands of rows and cols in double precision can require almost 10 Gigabytes) \n",
        "tdm_ship_boat_ricostruita = as.textmatrix(tdm_ship_boat_lsa)\n",
        "tdm_ship_boat_ricostruita"
      ],
      "execution_count": null,
      "outputs": [
        {
          "output_type": "display_data",
          "data": {
            "text/plain": [
              "             d1         d2          d3          d4          d5          d6\n",
              "ship  0.8481456  0.5159023  0.28162515  0.12986018  0.20574267 -0.07588249\n",
              "boat  0.3607778  0.3575076  0.15512454 -0.20565325 -0.02526436 -0.18038889\n",
              "ocean 1.0032701  0.7182854  0.36077778 -0.05052871  0.15512454 -0.20565325\n",
              "wood  0.9780058  0.1298602  0.20574267  1.02853450  0.61713858  0.41139591\n",
              "tree  0.1298602 -0.3860421 -0.07588249  0.89867432  0.41139591  0.48727840"
            ]
          },
          "metadata": {
            "tags": []
          }
        }
      ]
    },
    {
      "cell_type": "code",
      "metadata": {
        "id": "T9cixqORMZ0j",
        "colab": {
          "base_uri": "https://localhost:8080/",
          "height": 92
        },
        "outputId": "9b187a5e-e42d-4169-d350-12c22a9b27ed"
      },
      "source": [
        "# fold-in the query q in the LSA space, that is the query is trasformed as illustrated \n",
        "# in the last lesson, simply here we use the fold_in() predefined function instead of\n",
        "# directly using the formula presented in the lecture; \n",
        "# the query is executed over the rebuilt terms docs matrix \n",
        "ship_ocean = fold_in(q, tdm_ship_boat_lsa) # cosine() here returns 0.97 >> 0.5\n",
        "cosine(as.vector(ship_ocean), as.vector(tdm_ship_boat_ricostruita[,2])) "
      ],
      "execution_count": null,
      "outputs": [
        {
          "output_type": "display_data",
          "data": {
            "text/plain": [
              "     [,1]    \n",
              "[1,] 0.974639"
            ],
            "text/latex": "A matrix: 1 × 1 of type dbl\n\\begin{tabular}{l}\n\t 0.974639\\\\\n\\end{tabular}\n",
            "text/markdown": "\nA matrix: 1 × 1 of type dbl\n\n| 0.974639 |\n\n",
            "text/html": [
              "<table>\n",
              "<caption>A matrix: 1 × 1 of type dbl</caption>\n",
              "<tbody>\n",
              "\t<tr><td>0.974639</td></tr>\n",
              "</tbody>\n",
              "</table>\n"
            ]
          },
          "metadata": {
            "tags": []
          }
        }
      ]
    },
    {
      "cell_type": "code",
      "metadata": {
        "id": "fcmqdYf7MNZw",
        "colab": {
          "base_uri": "https://localhost:8080/",
          "height": 57
        },
        "outputId": "6139ee3d-d991-4db9-895e-26e900973d59"
      },
      "source": [
        "# Let's repeat the analysis within the LSA space, namely without rebuilding the large \n",
        "# dense terms docs matrix; we transform the query q in the doc q2 using the formula \n",
        "# explained in the last lesson namely (q2 = Σk^-1·U^T·q) \n",
        "# this makes q2 compliant with the dimension (shape) of V, i.e. dk  \n",
        "q2 = diag(tdm_ship_boat_lsa$sk^-1) %*% t(tdm_ship_boat_lsa$tk) %*% q\n",
        "\n",
        "# this is to correctly place q2 in the LSA graph (x,y)\n",
        "t(q2) %*% diag(tdm_ship_boat_lsa$sk)"
      ],
      "execution_count": null,
      "outputs": [
        {
          "output_type": "display_data",
          "data": {
            "text/plain": [
              "           [,1]      [,2]      \n",
              "SHIP OCEAN 0.9158777 -0.8072896"
            ],
            "text/latex": "A matrix: 1 × 2 of type dbl\n\\begin{tabular}{r|ll}\n\tSHIP OCEAN & 0.9158777 & -0.8072896\\\\\n\\end{tabular}\n",
            "text/markdown": "\nA matrix: 1 × 2 of type dbl\n\n| SHIP OCEAN | 0.9158777 | -0.8072896 |\n\n",
            "text/html": [
              "<table>\n",
              "<caption>A matrix: 1 × 2 of type dbl</caption>\n",
              "<tbody>\n",
              "\t<tr><th scope=row>SHIP OCEAN</th><td>0.9158777</td><td>-0.8072896</td></tr>\n",
              "</tbody>\n",
              "</table>\n"
            ]
          },
          "metadata": {
            "tags": []
          }
        }
      ]
    },
    {
      "cell_type": "code",
      "metadata": {
        "id": "gZgVGgr1McZS",
        "colab": {
          "base_uri": "https://localhost:8080/",
          "height": 75
        },
        "outputId": "4469d938-ef8d-46d0-a208-aa5947340d9a"
      },
      "source": [
        "# extraction of the d2 doc vector from the LSA space (second row of the matrix dk)\n",
        "d2 = tdm_ship_boat_lsa$dk[2,]\n",
        "\n",
        "# to place the d2 in the LSA graph (weighting wrt to eigenvalues)\n",
        "t(diag(tdm_ship_boat_lsa$sk) %*% d2)"
      ],
      "execution_count": null,
      "outputs": [
        {
          "output_type": "display_data",
          "data": {
            "text/plain": [
              "     [,1]      [,2]      \n",
              "[1,] 0.6048766 -0.8425659"
            ],
            "text/latex": "A matrix: 1 × 2 of type dbl\n\\begin{tabular}{ll}\n\t 0.6048766 & -0.8425659\\\\\n\\end{tabular}\n",
            "text/markdown": "\nA matrix: 1 × 2 of type dbl\n\n| 0.6048766 | -0.8425659 |\n\n",
            "text/html": [
              "<table>\n",
              "<caption>A matrix: 1 × 2 of type dbl</caption>\n",
              "<tbody>\n",
              "\t<tr><td>0.6048766</td><td>-0.8425659</td></tr>\n",
              "</tbody>\n",
              "</table>\n"
            ]
          },
          "metadata": {
            "tags": []
          }
        }
      ]
    },
    {
      "cell_type": "code",
      "metadata": {
        "id": "uw6TKkTmKneb",
        "colab": {
          "base_uri": "https://localhost:8080/",
          "height": 437
        },
        "outputId": "5caf1f0a-8dfa-4bef-ddc0-ffb28fe8cbef"
      },
      "source": [
        "# this diplays again the graph with the terms, docs but now with the query q2 with the label QEURY\n",
        "# font=2 means bold\n",
        "\n",
        "plot(tdm_ship_boat_lsa_terms, pch=20, cex=2, col=\"blue\", xlim=c(0.0, 1.6), ylim=c(-1,1))\n",
        "\n",
        "# this adds to the graph the terms, cex controls the font size, pos=1 controls the position \n",
        "# of the label with respect to its points, 1 means under the point\n",
        "text(tdm_ship_boat_lsa_terms, labels=termNames_ship_boat, cex=1.5, pos=1)\n",
        "points(tdm_ship_boat_lsa_docs, pch=23, cex=2, col=\"red\") # aggiunge le posiz. dei doc \n",
        "\n",
        "# add the docs labels \n",
        "text(tdm_ship_boat_lsa_docs, labels=docsNames_ship_boat, cex=1.5, pos=1)\n",
        "\n",
        "\n",
        "# this places the query in the graph\n",
        "points(t(q2) %*% diag(tdm_ship_boat_lsa$sk), pch=25, col=\"seagreen\", cex=1.5) # col=\"seagreen\"       \n",
        "text(t(q2) %*% diag(tdm_ship_boat_lsa$sk),labels=\"QUERY\", font=2, cex=1.5, pos=3, col=\"seagreen\")"
      ],
      "execution_count": null,
      "outputs": [
        {
          "output_type": "display_data",
          "data": {
            "image/png": "[encoded data removed]",
            "text/plain": [
              "plot without title"
            ]
          },
          "metadata": {
            "tags": [],
            "image/png": {
              "width": 420,
              "height": 420
            }
          }
        }
      ]
    },
    {
      "cell_type": "code",
      "metadata": {
        "id": "16Z4gZBQKrjK",
        "colab": {
          "base_uri": "https://localhost:8080/",
          "height": 92
        },
        "outputId": "c9655713-03f9-47a0-ffd9-072ac4842580"
      },
      "source": [
        "# Computing the cosine similarity between q and d2 with LSA using the formula\n",
        "# explained in the last lesson: cos(q_2·Σ_2, d_2·Σ_2) instead of using \n",
        "# fold_in() - we get exactly the same results 0.974639\n",
        "cosine(as.vector(t(q2) %*% diag(tdm_ship_boat_lsa$sk)), \n",
        "       as.vector(d2 %*% diag(tdm_ship_boat_lsa$sk)))"
      ],
      "execution_count": null,
      "outputs": [
        {
          "output_type": "display_data",
          "data": {
            "text/plain": [
              "     [,1]    \n",
              "[1,] 0.974639"
            ],
            "text/latex": "A matrix: 1 × 1 of type dbl\n\\begin{tabular}{l}\n\t 0.974639\\\\\n\\end{tabular}\n",
            "text/markdown": "\nA matrix: 1 × 1 of type dbl\n\n| 0.974639 |\n\n",
            "text/html": [
              "<table>\n",
              "<caption>A matrix: 1 × 1 of type dbl</caption>\n",
              "<tbody>\n",
              "\t<tr><td>0.974639</td></tr>\n",
              "</tbody>\n",
              "</table>\n"
            ]
          },
          "metadata": {
            "tags": []
          }
        }
      ]
    },
    {
      "cell_type": "code",
      "metadata": {
        "id": "_1qtuv-OLa-o",
        "colab": {
          "base_uri": "https://localhost:8080/",
          "height": 35
        },
        "outputId": "1da034ca-a30e-44c0-8d59-a7fe8daf8202"
      },
      "source": [
        "# Returs the similar terms to \"boat\" in descendant order of similarity\n",
        "# with minimum cosine threshold 0.5: we get -> ocean 0.91, ship 0.81 even if no documents \n",
        "# contains both terms boat e ship\n",
        "associate(tdm_ship_boat_lsa_terms, \"boat\", threshold = 0.5)"
      ],
      "execution_count": null,
      "outputs": [
        {
          "output_type": "display_data",
          "data": {
            "text/plain": [
              "    ocean      ship \n",
              "0.9155749 0.8117637 "
            ],
            "text/latex": "\\begin{description*}\n\\item[ocean] 0.915574875987277\n\\item[ship] 0.811763741001815\n\\end{description*}\n",
            "text/markdown": "ocean\n:   0.915574875987277ship\n:   0.811763741001815\n\n",
            "text/html": [
              "<style>\n",
              ".dl-inline {width: auto; margin:0; padding: 0}\n",
              ".dl-inline>dt, .dl-inline>dd {float: none; width: auto; display: inline-block}\n",
              ".dl-inline>dt::after {content: \":\\0020\"; padding-right: .5ex}\n",
              ".dl-inline>dt:not(:first-of-type) {padding-left: .5ex}\n",
              "</style><dl class=dl-inline><dt>ocean</dt><dd>0.915574875987277</dd><dt>ship</dt><dd>0.811763741001815</dd></dl>\n"
            ]
          },
          "metadata": {
            "tags": []
          }
        }
      ]
    },
    {
      "cell_type": "code",
      "metadata": {
        "id": "Vf6so_F5LhMI",
        "colab": {
          "base_uri": "https://localhost:8080/",
          "height": 35
        },
        "outputId": "c0773d6b-8018-4fff-89ea-54e1ba71c8dd"
      },
      "source": [
        "# In the original terms docs matrix the same statement returns only \n",
        "# ocean with 0.71\n",
        "associate(tdm_ship_boat, \"boat\", threshold = 0.5) "
      ],
      "execution_count": null,
      "outputs": [
        {
          "output_type": "display_data",
          "data": {
            "text/plain": [
              "    ocean \n",
              "0.7071068 "
            ],
            "text/latex": "\\textbf{ocean:} 0.707106781186547",
            "text/markdown": "**ocean:** 0.707106781186547",
            "text/html": [
              "<strong>ocean:</strong> 0.707106781186547"
            ]
          },
          "metadata": {
            "tags": []
          }
        }
      ]
    },
    {
      "cell_type": "code",
      "metadata": {
        "id": "Kdh5nyt0LjjQ",
        "colab": {
          "base_uri": "https://localhost:8080/",
          "height": 52
        },
        "outputId": "b517a2da-242b-406f-e19e-b084c64806ed"
      },
      "source": [
        "# Now let's search for terms similar to \"tree\" in the LSA space, we get -> wood 0.75, \n",
        "associate(tdm_ship_boat_lsa_terms, \"tree\", threshold = 0.5)\n",
        "\n",
        "# # but no result in the original matrix\n",
        "associate(tdm_ship_boat, \"tree\", threshold = 0.4) # we should lower the threshold"
      ],
      "execution_count": null,
      "outputs": [
        {
          "output_type": "display_data",
          "data": {
            "text/plain": [
              "    wood \n",
              "0.755113 "
            ],
            "text/latex": "\\textbf{wood:} 0.755113019386316",
            "text/markdown": "**wood:** 0.755113019386316",
            "text/html": [
              "<strong>wood:</strong> 0.755113019386316"
            ]
          },
          "metadata": {
            "tags": []
          }
        },
        {
          "output_type": "display_data",
          "data": {
            "text/plain": [
              "     wood \n",
              "0.4082483 "
            ],
            "text/latex": "\\textbf{wood:} 0.408248290463863",
            "text/markdown": "**wood:** 0.408248290463863",
            "text/html": [
              "<strong>wood:</strong> 0.408248290463863"
            ]
          },
          "metadata": {
            "tags": []
          }
        }
      ]
    },
    {
      "cell_type": "markdown",
      "metadata": {
        "id": "TQQNk9c2UfYt"
      },
      "source": [
        "## Esercise 1: Finding the most relevant docs for the query \"tree wood\" without rebuilding the terms docs matrix from the lsa space "
      ]
    },
    {
      "cell_type": "code",
      "metadata": {
        "id": "1oQ70gqgUVrw"
      },
      "source": [
        "# onehot encoding of the query\n",
        "q_wood_tree = query(\"wood tree\", rownames(tdm_ship_boat))"
      ],
      "execution_count": null,
      "outputs": []
    },
    {
      "cell_type": "code",
      "metadata": {
        "id": "N0A_d1u_V9EU"
      },
      "source": [
        "# porting of the query in the LSA space as a doc according to the formula explained in the preceding lesson\n",
        "# Attention: we are applying, not changing, the pre-computed LSA model.\n",
        "q3 = diag(tdm_ship_boat_lsa$sk^-1) %*% t(tdm_ship_boat_lsa$tk) %*% q_wood_tree"
      ],
      "execution_count": null,
      "outputs": []
    },
    {
      "cell_type": "code",
      "metadata": {
        "id": "b9B9290jWARh"
      },
      "source": [
        "# extraction of the document d4 from the LSA space \n",
        "d4 = tdm_ship_boat_lsa$dk[4,]"
      ],
      "execution_count": null,
      "outputs": []
    },
    {
      "cell_type": "code",
      "metadata": {
        "id": "gB1LS_I6WL9l",
        "colab": {
          "base_uri": "https://localhost:8080/",
          "height": 144
        },
        "outputId": "78a43b7a-aa44-4b68-e72f-9c1f21f900cb"
      },
      "source": [
        "# cosine similarity between due doc, q3 and d4, within the LSA space\n",
        "cosine(as.vector(t(q3) %*% diag(tdm_ship_boat_lsa$sk)), \n",
        "       as.vector(d4 %*% diag(tdm_ship_boat_lsa$sk)))"
      ],
      "execution_count": null,
      "outputs": [
        {
          "output_type": "display_data",
          "data": {
            "text/plain": [
              "     [,1]\n",
              "[1,] 1   "
            ],
            "text/latex": "A matrix: 1 × 1 of type dbl\n\\begin{tabular}{l}\n\t 1\\\\\n\\end{tabular}\n",
            "text/markdown": "\nA matrix: 1 × 1 of type dbl\n\n| 1 |\n\n",
            "text/html": [
              "<table>\n",
              "<caption>A matrix: 1 × 1 of type dbl</caption>\n",
              "<tbody>\n",
              "\t<tr><td>1</td></tr>\n",
              "</tbody>\n",
              "</table>\n"
            ]
          },
          "metadata": {
            "tags": []
          }
        }
      ]
    },
    {
      "cell_type": "code",
      "metadata": {
        "id": "lz8b0tjgWRyF",
        "colab": {
          "base_uri": "https://localhost:8080/",
          "height": 92
        },
        "outputId": "db6ef09a-ea87-486a-87b0-f51ad0448744"
      },
      "source": [
        "# idem with d5 and the other docs\n",
        "d5 = tdm_ship_boat_lsa$dk[5,]\n",
        "cosine(as.vector(t(q3) %*% diag(tdm_ship_boat_lsa$sk)), \n",
        "       as.vector(d5 %*% diag(tdm_ship_boat_lsa$sk)))"
      ],
      "execution_count": null,
      "outputs": [
        {
          "output_type": "display_data",
          "data": {
            "text/plain": [
              "     [,1]     \n",
              "[1,] 0.9431117"
            ],
            "text/latex": "A matrix: 1 × 1 of type dbl\n\\begin{tabular}{l}\n\t 0.9431117\\\\\n\\end{tabular}\n",
            "text/markdown": "\nA matrix: 1 × 1 of type dbl\n\n| 0.9431117 |\n\n",
            "text/html": [
              "<table>\n",
              "<caption>A matrix: 1 × 1 of type dbl</caption>\n",
              "<tbody>\n",
              "\t<tr><td>0.9431117</td></tr>\n",
              "</tbody>\n",
              "</table>\n"
            ]
          },
          "metadata": {
            "tags": []
          }
        }
      ]
    },
    {
      "cell_type": "code",
      "metadata": {
        "id": "zbuTbYiEWX2d",
        "colab": {
          "base_uri": "https://localhost:8080/",
          "height": 92
        },
        "outputId": "3b6787bb-8185-4a3f-9e5d-51820af23a2e"
      },
      "source": [
        "d6 = tdm_ship_boat_lsa$dk[6,]\n",
        "cosine(as.vector(t(q3) %*% diag(tdm_ship_boat_lsa$sk)), \n",
        "       as.vector(d6 %*% diag(tdm_ship_boat_lsa$sk)))"
      ],
      "execution_count": null,
      "outputs": [
        {
          "output_type": "display_data",
          "data": {
            "text/plain": [
              "     [,1]     \n",
              "[1,] 0.9273621"
            ],
            "text/latex": "A matrix: 1 × 1 of type dbl\n\\begin{tabular}{l}\n\t 0.9273621\\\\\n\\end{tabular}\n",
            "text/markdown": "\nA matrix: 1 × 1 of type dbl\n\n| 0.9273621 |\n\n",
            "text/html": [
              "<table>\n",
              "<caption>A matrix: 1 × 1 of type dbl</caption>\n",
              "<tbody>\n",
              "\t<tr><td>0.9273621</td></tr>\n",
              "</tbody>\n",
              "</table>\n"
            ]
          },
          "metadata": {
            "tags": []
          }
        }
      ]
    },
    {
      "cell_type": "code",
      "metadata": {
        "id": "L6EvdyVcWZze",
        "colab": {
          "base_uri": "https://localhost:8080/",
          "height": 92
        },
        "outputId": "d79edd79-a346-4c82-da6f-c11b74dfa58b"
      },
      "source": [
        "d3 = tdm_ship_boat_lsa$dk[3,]\n",
        "cosine(as.vector(t(q3) %*% diag(tdm_ship_boat_lsa$sk)), \n",
        "       as.vector(d3 %*% diag(tdm_ship_boat_lsa$sk)))"
      ],
      "execution_count": null,
      "outputs": [
        {
          "output_type": "display_data",
          "data": {
            "text/plain": [
              "     [,1]    \n",
              "[1,] 0.176269"
            ],
            "text/latex": "A matrix: 1 × 1 of type dbl\n\\begin{tabular}{l}\n\t 0.176269\\\\\n\\end{tabular}\n",
            "text/markdown": "\nA matrix: 1 × 1 of type dbl\n\n| 0.176269 |\n\n",
            "text/html": [
              "<table>\n",
              "<caption>A matrix: 1 × 1 of type dbl</caption>\n",
              "<tbody>\n",
              "\t<tr><td>0.176269</td></tr>\n",
              "</tbody>\n",
              "</table>\n"
            ]
          },
          "metadata": {
            "tags": []
          }
        }
      ]
    },
    {
      "cell_type": "code",
      "metadata": {
        "id": "HlyMGXz5Wcj-",
        "colab": {
          "base_uri": "https://localhost:8080/",
          "height": 92
        },
        "outputId": "2cc2a988-d646-437e-ce09-95014b43c6c7"
      },
      "source": [
        "d2 = tdm_ship_boat_lsa$dk[2,]\n",
        "cosine(as.vector(t(q3) %*% diag(tdm_ship_boat_lsa$sk)), \n",
        "       as.vector(d2 %*% diag(tdm_ship_boat_lsa$sk)))"
      ],
      "execution_count": null,
      "outputs": [
        {
          "output_type": "display_data",
          "data": {
            "text/plain": [
              "     [,1]     \n",
              "[1,] -0.177918"
            ],
            "text/latex": "A matrix: 1 × 1 of type dbl\n\\begin{tabular}{l}\n\t -0.177918\\\\\n\\end{tabular}\n",
            "text/markdown": "\nA matrix: 1 × 1 of type dbl\n\n| -0.177918 |\n\n",
            "text/html": [
              "<table>\n",
              "<caption>A matrix: 1 × 1 of type dbl</caption>\n",
              "<tbody>\n",
              "\t<tr><td>-0.177918</td></tr>\n",
              "</tbody>\n",
              "</table>\n"
            ]
          },
          "metadata": {
            "tags": []
          }
        }
      ]
    },
    {
      "cell_type": "code",
      "metadata": {
        "id": "aQFWIXIoWfLP",
        "colab": {
          "base_uri": "https://localhost:8080/",
          "height": 92
        },
        "outputId": "6d1b8cf9-15db-464f-ccf0-f4cff3d89fcd"
      },
      "source": [
        "d1 = tdm_ship_boat_lsa$dk[1,]\n",
        "cosine(as.vector(t(q3) %*% diag(tdm_ship_boat_lsa$sk)), \n",
        "       as.vector(d1 %*% diag(tdm_ship_boat_lsa$sk)))"
      ],
      "execution_count": null,
      "outputs": [
        {
          "output_type": "display_data",
          "data": {
            "text/plain": [
              "     [,1]    \n",
              "[1,] 0.474432"
            ],
            "text/latex": "A matrix: 1 × 1 of type dbl\n\\begin{tabular}{l}\n\t 0.474432\\\\\n\\end{tabular}\n",
            "text/markdown": "\nA matrix: 1 × 1 of type dbl\n\n| 0.474432 |\n\n",
            "text/html": [
              "<table>\n",
              "<caption>A matrix: 1 × 1 of type dbl</caption>\n",
              "<tbody>\n",
              "\t<tr><td>0.474432</td></tr>\n",
              "</tbody>\n",
              "</table>\n"
            ]
          },
          "metadata": {
            "tags": []
          }
        }
      ]
    },
    {
      "cell_type": "code",
      "metadata": {
        "id": "uBGU1I5gW1BX",
        "colab": {
          "base_uri": "https://localhost:8080/",
          "height": 437
        },
        "outputId": "05604c9c-78f2-4ae5-c9f5-a33672adfcf9"
      },
      "source": [
        "# Displaying of the graph with the position of the new query q3 using the same code above\n",
        "\n",
        "plot(tdm_ship_boat_lsa_terms, pch=20, cex=2, col=\"blue\", xlim=c(0.0, 1.6), ylim=c(-1, 1.2))\n",
        "\n",
        "# add the terms' names to the graph, cex is the font dimension, pos=1 positions the label under its point \n",
        "text(tdm_ship_boat_lsa_terms, labels=termNames_ship_boat, cex=1.5, pos=1)\n",
        "points(tdm_ship_boat_lsa_docs, pch=23, cex=2, col=\"red\") # aggiunge le posiz. dei doc \n",
        "\n",
        "# add the docs names to the graph\n",
        "text(tdm_ship_boat_lsa_docs, labels=docsNames_ship_boat, cex=1.5, pos=1)\n",
        "\n",
        "\n",
        "# put the query in the graph\n",
        "points(t(q3) %*% diag(tdm_ship_boat_lsa$sk), pch=25, col=\"seagreen\", cex=1.5) # col=\"seagreen\"       \n",
        "text(t(q3) %*% diag(tdm_ship_boat_lsa$sk),labels=\"wood tree\", font=2, cex=1.5,pos=3, col=\"seagreen\")"
      ],
      "execution_count": null,
      "outputs": [
        {
          "output_type": "display_data",
          "data": {
            "image/png": "[encoded data removed]",
            "text/plain": [
              "plot without title"
            ]
          },
          "metadata": {
            "tags": [],
            "image/png": {
              "width": 420,
              "height": 420
            }
          }
        }
      ]
    },
    {
      "cell_type": "code",
      "metadata": {
        "id": "urwN26UXXt4a",
        "colab": {
          "base_uri": "https://localhost:8080/"
        },
        "outputId": "4b834920-339d-4321-c2ea-7b4768aa034a"
      },
      "source": [
        "# The same exercise resolved simply using the for iteration   \n",
        "for(j in 1:6) {\n",
        "  dd = tdm_ship_boat_lsa$dk[j,]\n",
        "  coseno = cosine(as.vector(t(q3) %*% diag(tdm_ship_boat_lsa$sk)), as.vector(dd %*% diag(tdm_ship_boat_lsa$sk)))\n",
        "  cat(coseno,\"\\n\") \n",
        "} "
      ],
      "execution_count": null,
      "outputs": [
        {
          "output_type": "stream",
          "text": [
            "0.474432 \n",
            "-0.177918 \n",
            "0.176269 \n",
            "1 \n",
            "0.9431117 \n",
            "0.9273621 \n"
          ],
          "name": "stdout"
        }
      ]
    },
    {
      "cell_type": "markdown",
      "metadata": {
        "id": "C8IStkdocplD"
      },
      "source": [
        "## Exercise 2: like exercise 1 but rebuilding the matrix terms-docs from the lsa space\n"
      ]
    },
    {
      "cell_type": "code",
      "metadata": {
        "id": "eJOl-eaYc7S3"
      },
      "source": [
        ""
      ],
      "execution_count": null,
      "outputs": []
    },
    {
      "cell_type": "markdown",
      "metadata": {
        "id": "reMx30hmcebG"
      },
      "source": [
        "## Exercise 3: Recomputing the most relevant docs for the same query without using LSA\n"
      ]
    },
    {
      "cell_type": "code",
      "metadata": {
        "id": "YEnGOLlidDWd"
      },
      "source": [
        ""
      ],
      "execution_count": null,
      "outputs": []
    },
    {
      "cell_type": "markdown",
      "metadata": {
        "id": "siGGFA8McOTz"
      },
      "source": [
        "## Exercise 4: like Exercise 2 but using the for iteration\n"
      ]
    },
    {
      "cell_type": "code",
      "metadata": {
        "id": "4lWzXHKbdPO1"
      },
      "source": [
        ""
      ],
      "execution_count": null,
      "outputs": []
    },
    {
      "cell_type": "markdown",
      "metadata": {
        "id": "0aeh9Gm-YCHc"
      },
      "source": [
        "## Exercise 5: resolving the exercise 1 by using only the predefined LSA functions fold_in() and sssociate() \n",
        "\n"
      ]
    },
    {
      "cell_type": "code",
      "metadata": {
        "id": "rVVWi4jfUl47"
      },
      "source": [
        ""
      ],
      "execution_count": null,
      "outputs": []
    },
    {
      "cell_type": "markdown",
      "metadata": {
        "id": "pMxNPjCLIvVD"
      },
      "source": [
        ""
      ]
    }
  ]
}